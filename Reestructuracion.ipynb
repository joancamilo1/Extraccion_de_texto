{
 "cells": [
  {
   "cell_type": "code",
   "execution_count": null,
   "id": "d45c26e7",
   "metadata": {},
   "outputs": [],
   "source": [
    "import pandas as pd\n",
    "import re"
   ]
  },
  {
   "cell_type": "code",
   "execution_count": null,
   "id": "61b5f8ff",
   "metadata": {},
   "outputs": [],
   "source": [
    "!pip install --upgrade xlrd"
   ]
  },
  {
   "cell_type": "code",
   "execution_count": null,
   "id": "97090fa2",
   "metadata": {},
   "outputs": [],
   "source": [
    "df = pd.read_excel(\"output_bienestar.xlsx\") "
   ]
  },
  {
   "cell_type": "code",
   "execution_count": null,
   "id": "06f03b21",
   "metadata": {},
   "outputs": [],
   "source": [
    "filtro = df[(df[\"id_paciente\"] == 230264) &\n",
    "            (df[\"Prestador\"] == 'Bienestar') &\n",
    "            (df[\"ruta_pdf\"] == r'D:\\Users\\WS-012\\Desktop\\P_Colmedica\\estructura\\data_path\\CC_230264\\Bienestar\\CC_230264.pdf')]\n"
   ]
  },
  {
   "cell_type": "code",
   "execution_count": null,
   "id": "25fd1160",
   "metadata": {
    "scrolled": true
   },
   "outputs": [],
   "source": [
    "texto_pag_filtro = filtro[\"texto_pag\"]"
   ]
  },
  {
   "cell_type": "code",
   "execution_count": null,
   "id": "4c13c586",
   "metadata": {},
   "outputs": [],
   "source": [
    "union = \"\"\n",
    "for pagina in texto_pag_filtro:\n",
    "    union = union + pagina"
   ]
  },
  {
   "cell_type": "code",
   "execution_count": null,
   "id": "5b4d6581",
   "metadata": {},
   "outputs": [],
   "source": [
    "new = union.replace('[\\'',' ')\n",
    "new = new.replace('\\']',' ')\n",
    "new = new.replace('\\\\n',',')"
   ]
  },
  {
   "cell_type": "code",
   "execution_count": null,
   "id": "b91f9b0e",
   "metadata": {},
   "outputs": [],
   "source": [
    "new_n = new.split(sep=',')"
   ]
  },
  {
   "cell_type": "code",
   "execution_count": null,
   "id": "be61b91c",
   "metadata": {
    "scrolled": true
   },
   "outputs": [],
   "source": [
    "lineas = [linea.split() for linea in new_n]\n",
    "lineas"
   ]
  },
  {
   "cell_type": "code",
   "execution_count": null,
   "id": "3dc0c238",
   "metadata": {
    "scrolled": true
   },
   "outputs": [],
   "source": [
    "lineas_unidas = []\n",
    "for i in range(len(lineas)):\n",
    "    lineas_unidas += lineas[i]\n",
    "    \n",
    "lineas_pro = [lineas_unidas]\n",
    "lineas_pro[0]"
   ]
  },
  {
   "cell_type": "code",
   "execution_count": null,
   "id": "a5f67997",
   "metadata": {},
   "outputs": [],
   "source": [
    "# funcion que busca la posicion de la palabra\n",
    "def finder(x):\n",
    "    for i in range(len(lineas_pro)):\n",
    "        try:\n",
    "            return i,lineas_pro[i].index(x)\n",
    "        except ValueError:\n",
    "            pass     "
   ]
  },
  {
   "cell_type": "code",
   "execution_count": null,
   "id": "5aca5f3f",
   "metadata": {},
   "outputs": [],
   "source": [
    "v1 = lineas_pro[finder('Datos')[0]][finder('Datos')[1]:finder('Datos')[1]+100] \n",
    "frase_1 = \" \".join(v1)\n",
    "s1 = [s for s in re.findall(r'(.+)(?=Antecedentes\\s\\(Inicio\\))',frase_1)]\n",
    "s1"
   ]
  },
  {
   "cell_type": "markdown",
   "id": "9c9d345d",
   "metadata": {},
   "source": [
    "|-------------------------------------------------------------------------------------------------------------------------------------------------------------------------------------------------------"
   ]
  },
  {
   "cell_type": "code",
   "execution_count": null,
   "id": "a62f5d86",
   "metadata": {},
   "outputs": [],
   "source": [
    "v2 = lineas_pro[finder('Antecedentes')[0]][finder('Antecedentes')[1]:finder('Antecedentes')[1]+10000] \n",
    "frase_2 = \" \".join(v2)\n",
    "s2 = [s for s in re.findall(r'(?=Antecedentes\\s\\(Inicio\\))(.+)(?=Consultas\\s\\(Inicio\\))',frase_2)]\n",
    "s2"
   ]
  },
  {
   "cell_type": "markdown",
   "id": "9d465921",
   "metadata": {},
   "source": [
    "|-------------------------------------------------------------------------------------------------------------------------------------------------------------------------------------------------------"
   ]
  },
  {
   "cell_type": "code",
   "execution_count": null,
   "id": "a6c54bc3",
   "metadata": {},
   "outputs": [],
   "source": [
    "v3 = lineas_pro[finder('Consultas')[0]][finder('Consultas')[1]:finder('Consultas')[1]+1000000000000] \n",
    "frase_3 = \" \".join(v3)\n",
    "s3 = [s for s in re.findall(r'(?=Consultas\\s\\(Inicio\\))(.+)(?=Consultas\\s\\(Fin\\))',frase_3)]\n",
    "s3"
   ]
  },
  {
   "cell_type": "markdown",
   "id": "b9781e10",
   "metadata": {},
   "source": [
    "|-------------------------------------------------------------------------------------------------------------------------------------------------------------------------------------------------------"
   ]
  },
  {
   "cell_type": "code",
   "execution_count": null,
   "id": "b494e49c",
   "metadata": {},
   "outputs": [],
   "source": [
    "v4 = lineas_pro[finder('Consultas')[0]][finder('Consultas')[1]:finder('Consultas')[1]+1000000000000] \n",
    "frase_4 = \" \".join(v4)\n",
    "s4 = [s for s in re.split(r'(?=Consulta\\s\\-\\s\\#\\sInterno:\\s[0-9]{1,})',frase_4)]"
   ]
  },
  {
   "cell_type": "code",
   "execution_count": null,
   "id": "a0ab5d62",
   "metadata": {
    "scrolled": true
   },
   "outputs": [],
   "source": [
    "s4[1]"
   ]
  },
  {
   "cell_type": "code",
   "execution_count": null,
   "id": "b0bac400",
   "metadata": {
    "scrolled": true
   },
   "outputs": [],
   "source": [
    "s4_1 = [s for s in re.findall(r'(?:Consulta\\s\\-\\s\\#\\sInterno:\\s[0-9]{1,})', str(s4))]\n",
    "s4_1"
   ]
  },
  {
   "cell_type": "markdown",
   "id": "0b1524e8",
   "metadata": {},
   "source": [
    "|-------------------------------------------------------------------------------------------------------------------------------------------------------------------------------------------------------"
   ]
  },
  {
   "cell_type": "code",
   "execution_count": null,
   "id": "7ca753ed",
   "metadata": {
    "scrolled": true
   },
   "outputs": [],
   "source": [
    "v5 = lineas_pro[finder('Programas')[0]][finder('Programas')[1]:finder('Programas')[1]+10000] \n",
    "frase_5 = \" \".join(v5)\n",
    "s5 = [s for s in re.findall(r'(?=Programas\\sEspeciales\\s\\-\\sEnfermedades\\sCronicas\\s\\(Inicio\\))(.+)(?=Programas\\sEspeciales\\s\\-\\sEnfermedades\\sCronicas\\s\\(Fin\\))',frase_5)]\n",
    "s5"
   ]
  },
  {
   "cell_type": "markdown",
   "id": "7caee067",
   "metadata": {},
   "source": [
    "|-------------------------------------------------------------------------------------------------------------------------------------------------------------------------------------------------------"
   ]
  },
  {
   "cell_type": "code",
   "execution_count": null,
   "id": "2745af90",
   "metadata": {
    "scrolled": true
   },
   "outputs": [],
   "source": [
    "v6 = lineas_pro[finder('Notas')[0]][finder('Notas')[1]:finder('Notas')[1]+10000] \n",
    "frase_6 = \" \".join(v6)\n",
    "s6 = [s for s in re.findall(r'(?=Notas\\sAsistenciales\\s\\(Inicio\\))(.+)(?=Notas\\sAsistenciales\\s\\(Fin\\))',frase_6)]\n",
    "s6"
   ]
  },
  {
   "cell_type": "code",
   "execution_count": null,
   "id": "c7cbc114",
   "metadata": {},
   "outputs": [],
   "source": [
    "texto_secciones = [s1,s2,s3,s4_1,s4,s6]\n",
    "texto_secciones"
   ]
  }
 ],
 "metadata": {
  "kernelspec": {
   "display_name": "Python 3 (ipykernel)",
   "language": "python",
   "name": "python3"
  },
  "language_info": {
   "codemirror_mode": {
    "name": "ipython",
    "version": 3
   },
   "file_extension": ".py",
   "mimetype": "text/x-python",
   "name": "python",
   "nbconvert_exporter": "python",
   "pygments_lexer": "ipython3",
   "version": "3.9.12"
  }
 },
 "nbformat": 4,
 "nbformat_minor": 5
}
